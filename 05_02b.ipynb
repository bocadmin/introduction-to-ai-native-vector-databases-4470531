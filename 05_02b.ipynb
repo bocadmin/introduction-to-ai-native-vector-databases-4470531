{
 "cells": [
  {
   "cell_type": "code",
   "execution_count": 1,
   "id": "a5cb4030",
   "metadata": {},
   "outputs": [
    {
     "name": "stdout",
     "output_type": "stream",
     "text": [
      "[\n",
      "  {\n",
      "    \"Category\": \"SCIENCE\",\n",
      "    \"Question\": \"This organ removes excess glucose from the blood & stores it as glycogen\",\n",
      "    \"Answer\": \"Liver\"\n",
      "  },\n",
      "  {\n",
      "    \"Category\": \"ANIMALS\",\n",
      "    \"Question\": \"It's the only living mammal in the order Proboseidea\",\n",
      "    \"Answer\": \"Elephant\"\n",
      "  },\n",
      "  {\n",
      "    \"Category\": \"ANIMALS\",\n",
      "    \"Question\": \"The gavial looks very much like a crocodile except for this bodily feature\",\n",
      "    \"Answer\": \"the nose or snout\"\n",
      "  },\n",
      "  {\n",
      "    \"Category\": \"ANIMALS\",\n",
      "    \"Question\": \"Weighing around a ton, the eland is the largest species of this animal in Africa\",\n",
      "    \"Answer\": \"Antelope\"\n",
      "  },\n",
      "  {\n",
      "    \"Category\": \"ANIMALS\",\n",
      "    \"Question\": \"Heaviest of all poisonous snakes is this North American rattlesnake\",\n",
      "    \"Answer\": \"the diamondback rattler\"\n",
      "  },\n",
      "  {\n",
      "    \"Category\": \"SCIENCE\",\n",
      "    \"Question\": \"2000 news: the Gunnison sage grouse isn't just another northern sage grouse, but a new one of this classification\",\n",
      "    \"Answer\": \"species\"\n",
      "  },\n",
      "  {\n",
      "    \"Category\": \"SCIENCE\",\n",
      "    \"Question\": \"A metal that is ductile can be pulled into this while cold & under pressure\",\n",
      "    \"Answer\": \"wire\"\n",
      "  },\n",
      "  {\n",
      "    \"Category\": \"SCIENCE\",\n",
      "    \"Question\": \"In 1953 Watson & Crick built a model of the molecular structure of this, the gene-carrying substance\",\n",
      "    \"Answer\": \"DNA\"\n",
      "  },\n",
      "  {\n",
      "    \"Category\": \"SCIENCE\",\n",
      "    \"Question\": \"Changes in the tropospheric layer of this are what gives us weather\",\n",
      "    \"Answer\": \"the atmosphere\"\n",
      "  },\n",
      "  {\n",
      "    \"Category\": \"SCIENCE\",\n",
      "    \"Question\": \"In 70-degree air, a plane traveling at about 1,130 feet per second breaks it\",\n",
      "    \"Answer\": \"Sound barrier\"\n",
      "  }\n",
      "]\n"
     ]
    }
   ],
   "source": [
    "import requests\n",
    "import json\n",
    "\n",
    "# Download the data\n",
    "resp = requests.get('https://raw.githubusercontent.com/weaviate-tutorials/quickstart/main/data/jeopardy_tiny.json')\n",
    "data = json.loads(resp.text)  # Load data\n",
    "    \n",
    "def json_print(data):\n",
    "    print(json.dumps(data, indent=2))\n",
    "    \n",
    "json_print(data)"
   ]
  },
  {
   "cell_type": "code",
   "execution_count": null,
   "id": "4772747f",
   "metadata": {},
   "outputs": [],
   "source": [
    "import weaviate\n",
    "from weaviate import EmbeddedOptions\n",
    "import os\n",
    "\n",
    "client = weaviate.Client(\n",
    "    embedded_options=EmbeddedOptions(),\n",
    "    additional_headers={\n",
    "        \"X-OpenAI-Api-Key\": os.environ[\"OPENAI_API_KEY\"]  # Replace this with your actual key\n",
    "    }\n",
    ")"
   ]
  },
  {
   "cell_type": "code",
   "execution_count": null,
   "id": "9729c065",
   "metadata": {},
   "outputs": [],
   "source": [
    "if client.schema.exists(\"Question\"):\n",
    "    client.schema.delete_class(\"Question\")"
   ]
  },
  {
   "cell_type": "code",
   "execution_count": null,
   "id": "3d510e69",
   "metadata": {},
   "outputs": [],
   "source": [
    "class_obj = {\n",
    "    \"class\": \"Question\",\n",
    "    \"vectorizer\": \"text2vec-openai\",  # If set to \"none\" you must always provide vectors yourself. Could be any other \"text2vec-*\" also.\n",
    "}\n",
    "\n",
    "client.schema.create_class(class_obj)"
   ]
  },
  {
   "cell_type": "code",
   "execution_count": null,
   "id": "afefa538",
   "metadata": {},
   "outputs": [],
   "source": [
    "with client.batch.configure() as batch:\n",
    "    for i, d in enumerate(data):  # Batch import data\n",
    "        \n",
    "        print(f\"importing question: {i+1}\")\n",
    "        \n",
    "        properties = {\n",
    "            \"answer\": d[\"Answer\"],\n",
    "            \"question\": d[\"Question\"],\n",
    "            \"category\": d[\"Category\"],\n",
    "        }\n",
    "        \n",
    "        batch.add_data_object(\n",
    "            data_object=properties,\n",
    "            class_name=\"Question\"\n",
    "        )"
   ]
  },
  {
   "cell_type": "code",
   "execution_count": null,
   "id": "71171f89",
   "metadata": {},
   "outputs": [],
   "source": [
    "json_print(client.query.aggregate('Question').with_meta_count().do())"
   ]
  },
  {
   "cell_type": "markdown",
   "id": "3e364cb8",
   "metadata": {},
   "source": [
    "### Lets perform vector search for the concept of \"animal\""
   ]
  },
  {
   "cell_type": "code",
   "execution_count": null,
   "id": "8c9bf07e",
   "metadata": {},
   "outputs": [],
   "source": [
    "#Vector search: a query that will try to match concepts between the query and objects\n",
    "\n",
    "# ADD CODE HERE\n",
    "\n",
    "print(json.dumps(response, indent=4))"
   ]
  },
  {
   "cell_type": "markdown",
   "id": "702f763a",
   "metadata": {},
   "source": [
    "### Now, lets perform keyword search"
   ]
  },
  {
   "cell_type": "code",
   "execution_count": null,
   "id": "9b4f3028",
   "metadata": {},
   "outputs": [],
   "source": [
    "#Write a query that will try to match the words in the query to the words in the object\n",
    "\n",
    "# ADD CODE HERE\n",
    "\n",
    "print(json.dumps(response, indent=4))"
   ]
  },
  {
   "cell_type": "markdown",
   "id": "89ef7205",
   "metadata": {},
   "source": [
    "### Why do we only get one match here? We know there are more animal related objects!"
   ]
  },
  {
   "cell_type": "markdown",
   "id": "8d5e5552",
   "metadata": {},
   "source": [
    "### Lets combine keyword and vector search - called hybrid search!"
   ]
  },
  {
   "cell_type": "code",
   "execution_count": null,
   "id": "4b41e606",
   "metadata": {
    "scrolled": true
   },
   "outputs": [],
   "source": [
    "#Hybrid search query\n",
    "\n",
    "# ADD CODE HERE\n",
    "\n",
    "print(json.dumps(response, indent=4))"
   ]
  },
  {
   "cell_type": "code",
   "execution_count": null,
   "id": "b327cdb3",
   "metadata": {},
   "outputs": [],
   "source": [
    "#Modify the alpha parameter to see what happens!\n",
    "\n",
    "# ADD CODE HERE\n",
    "\n",
    "print(json.dumps(response, indent=4))"
   ]
  },
  {
   "cell_type": "markdown",
   "id": "90cddb8c",
   "metadata": {},
   "source": [
    "### Notice the order of the returned results!"
   ]
  }
 ],
 "metadata": {
  "kernelspec": {
   "display_name": "Python 3 (ipykernel)",
   "language": "python",
   "name": "python3"
  },
  "language_info": {
   "codemirror_mode": {
    "name": "ipython",
    "version": 3
   },
   "file_extension": ".py",
   "mimetype": "text/x-python",
   "name": "python",
   "nbconvert_exporter": "python",
   "pygments_lexer": "ipython3",
   "version": "3.10.13"
  }
 },
 "nbformat": 4,
 "nbformat_minor": 5
}
