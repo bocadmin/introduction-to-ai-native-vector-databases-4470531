{
 "cells": [
  {
   "cell_type": "code",
   "execution_count": 1,
   "id": "cfd2f8ba",
   "metadata": {},
   "outputs": [
    {
     "name": "stdout",
     "output_type": "stream",
     "text": [
      "[\n",
      "  {\n",
      "    \"Category\": \"SCIENCE\",\n",
      "    \"Question\": \"This organ removes excess glucose from the blood & stores it as glycogen\",\n",
      "    \"Answer\": \"Liver\"\n",
      "  },\n",
      "  {\n",
      "    \"Category\": \"ANIMALS\",\n",
      "    \"Question\": \"It's the only living mammal in the order Proboseidea\",\n",
      "    \"Answer\": \"Elephant\"\n",
      "  },\n",
      "  {\n",
      "    \"Category\": \"ANIMALS\",\n",
      "    \"Question\": \"The gavial looks very much like a crocodile except for this bodily feature\",\n",
      "    \"Answer\": \"the nose or snout\"\n",
      "  },\n",
      "  {\n",
      "    \"Category\": \"ANIMALS\",\n",
      "    \"Question\": \"Weighing around a ton, the eland is the largest species of this animal in Africa\",\n",
      "    \"Answer\": \"Antelope\"\n",
      "  },\n",
      "  {\n",
      "    \"Category\": \"ANIMALS\",\n",
      "    \"Question\": \"Heaviest of all poisonous snakes is this North American rattlesnake\",\n",
      "    \"Answer\": \"the diamondback rattler\"\n",
      "  },\n",
      "  {\n",
      "    \"Category\": \"SCIENCE\",\n",
      "    \"Question\": \"2000 news: the Gunnison sage grouse isn't just another northern sage grouse, but a new one of this classification\",\n",
      "    \"Answer\": \"species\"\n",
      "  },\n",
      "  {\n",
      "    \"Category\": \"SCIENCE\",\n",
      "    \"Question\": \"A metal that is ductile can be pulled into this while cold & under pressure\",\n",
      "    \"Answer\": \"wire\"\n",
      "  },\n",
      "  {\n",
      "    \"Category\": \"SCIENCE\",\n",
      "    \"Question\": \"In 1953 Watson & Crick built a model of the molecular structure of this, the gene-carrying substance\",\n",
      "    \"Answer\": \"DNA\"\n",
      "  },\n",
      "  {\n",
      "    \"Category\": \"SCIENCE\",\n",
      "    \"Question\": \"Changes in the tropospheric layer of this are what gives us weather\",\n",
      "    \"Answer\": \"the atmosphere\"\n",
      "  },\n",
      "  {\n",
      "    \"Category\": \"SCIENCE\",\n",
      "    \"Question\": \"In 70-degree air, a plane traveling at about 1,130 feet per second breaks it\",\n",
      "    \"Answer\": \"Sound barrier\"\n",
      "  }\n",
      "]\n"
     ]
    }
   ],
   "source": [
    "import requests\n",
    "import json\n",
    "\n",
    "# Download the data\n",
    "resp = requests.get('https://raw.githubusercontent.com/weaviate-tutorials/quickstart/main/data/jeopardy_tiny.json')\n",
    "data = json.loads(resp.text)  # Load data\n",
    "    \n",
    "def json_print(data):\n",
    "    print(json.dumps(data, indent=2))\n",
    "    \n",
    "json_print(data)"
   ]
  },
  {
   "cell_type": "code",
   "execution_count": 2,
   "id": "4981786e",
   "metadata": {},
   "outputs": [
    {
     "name": "stdout",
     "output_type": "stream",
     "text": [
      "embedded weaviate is already listening on port 6666\n"
     ]
    }
   ],
   "source": [
    "import weaviate\n",
    "from weaviate import EmbeddedOptions\n",
    "import os\n",
    "\n",
    "client = weaviate.Client(\n",
    "    embedded_options=EmbeddedOptions(),\n",
    "    additional_headers={\n",
    "        \"X-OpenAI-Api-Key\": os.environ[\"OPENAI_API_KEY\"]  # Replace this with your actual key\n",
    "    }\n",
    ")"
   ]
  },
  {
   "cell_type": "code",
   "execution_count": 3,
   "id": "4304bfdd",
   "metadata": {},
   "outputs": [],
   "source": [
    "if client.schema.exists(\"Question\"):\n",
    "    client.schema.delete_class(\"Question\")"
   ]
  },
  {
   "cell_type": "code",
   "execution_count": 4,
   "id": "839cb5ed",
   "metadata": {},
   "outputs": [],
   "source": [
    "class_obj = {\n",
    "    \"class\": \"Question\",\n",
    "    \"vectorizer\": \"text2vec-openai\",  # If set to \"none\" you must always provide vectors yourself. Could be any other \"text2vec-*\" also.\n",
    "}\n",
    "\n",
    "client.schema.create_class(class_obj)"
   ]
  },
  {
   "cell_type": "code",
   "execution_count": 5,
   "id": "26631ef3",
   "metadata": {},
   "outputs": [
    {
     "name": "stdout",
     "output_type": "stream",
     "text": [
      "importing question: 1\n",
      "importing question: 2\n",
      "importing question: 3\n",
      "importing question: 4\n",
      "importing question: 5\n",
      "importing question: 6\n",
      "importing question: 7\n",
      "importing question: 8\n",
      "importing question: 9\n",
      "importing question: 10\n"
     ]
    }
   ],
   "source": [
    "with client.batch.configure() as batch:\n",
    "    for i, d in enumerate(data):  # Batch import data\n",
    "        \n",
    "        print(f\"importing question: {i+1}\")\n",
    "        \n",
    "        properties = {\n",
    "            \"answer\": d[\"Answer\"],\n",
    "            \"question\": d[\"Question\"],\n",
    "            \"category\": d[\"Category\"],\n",
    "        }\n",
    "        \n",
    "        batch.add_data_object(\n",
    "            data_object=properties,\n",
    "            class_name=\"Question\"\n",
    "        )"
   ]
  },
  {
   "cell_type": "code",
   "execution_count": 6,
   "id": "a8d17a94",
   "metadata": {},
   "outputs": [
    {
     "name": "stdout",
     "output_type": "stream",
     "text": [
      "{\n",
      "  \"data\": {\n",
      "    \"Aggregate\": {\n",
      "      \"Question\": [\n",
      "        {\n",
      "          \"meta\": {\n",
      "            \"count\": 10\n",
      "          }\n",
      "        }\n",
      "      ]\n",
      "    }\n",
      "  }\n",
      "}\n"
     ]
    }
   ],
   "source": [
    "json_print(client.query.aggregate('Question').with_meta_count().do())"
   ]
  },
  {
   "cell_type": "markdown",
   "id": "7f8276bd",
   "metadata": {},
   "source": [
    "### Lets run a vector search to see whats comes back"
   ]
  },
  {
   "cell_type": "markdown",
   "id": "0750a2f7",
   "metadata": {},
   "source": [
    "search with concept vectordb -> collection of curated local knowldge, docs -> pass initial query + augmented info (docs) -> pass to GPT -> accurate results"
   ]
  },
  {
   "cell_type": "code",
   "execution_count": 7,
   "id": "c95b858e",
   "metadata": {},
   "outputs": [
    {
     "name": "stdout",
     "output_type": "stream",
     "text": [
      "{\n",
      "  \"data\": {\n",
      "    \"Get\": {\n",
      "      \"Question\": [\n",
      "        {\n",
      "          \"answer\": \"Elephant\"\n",
      "        },\n",
      "        {\n",
      "          \"answer\": \"the nose or snout\"\n",
      "        }\n",
      "      ]\n",
      "    }\n",
      "  }\n",
      "}\n"
     ]
    }
   ],
   "source": [
    "#Write a vector search related to animals\n",
    "\n",
    "response = (client.query\n",
    "            .get(\"Question\", \"answer\")\n",
    "            .with_near_text({\"concepts\":\"animals\"})\n",
    "            .with_limit(2)\n",
    "            .do()\n",
    ")\n",
    "\n",
    "json_print(response)"
   ]
  },
  {
   "cell_type": "markdown",
   "id": "7b680b25",
   "metadata": {},
   "source": [
    "### No we want to pass each of these objects to a LLM individually to use when answering a prompt!"
   ]
  },
  {
   "cell_type": "code",
   "execution_count": 8,
   "id": "1e4eb385",
   "metadata": {},
   "outputs": [],
   "source": [
    "#Write a prompt that will be passed in the returend object above.\n",
    "\n",
    "prompt = \"Tell me a story about this animal {answer} flying!\""
   ]
  },
  {
   "cell_type": "code",
   "execution_count": 9,
   "id": "c09d9041",
   "metadata": {},
   "outputs": [
    {
     "name": "stdout",
     "output_type": "stream",
     "text": [
      "{\n",
      "  \"data\": {\n",
      "    \"Get\": {\n",
      "      \"Question\": [\n",
      "        {\n",
      "          \"_additional\": {\n",
      "            \"generate\": {\n",
      "              \"error\": null,\n",
      "              \"singleResult\": \"Once upon a time, in a lush and magical forest, there lived a young elephant named Ella. Ella was no ordinary elephant; she possessed a unique ability that set her apart from her fellow elephants. She could fly!\\n\\nElla's story began when she was just a baby elephant. One sunny day, while playing near a sparkling river, she stumbled upon a mysterious glowing flower. Intrigued by its beauty, Ella reached out her trunk and gently touched the petals. In an instant, a burst of magical energy enveloped her, and she felt lighter than air.\\n\\nWith her newfound ability, Ella soared through the sky, her large ears acting as wings, carrying her gracefully through the clouds. The other animals in the forest were amazed and delighted by this extraordinary sight. Birds chirped in awe, monkeys swung from tree to tree, and even the wise old owl hooted with joy.\\n\\nElla's flying adventures took her to distant lands, where she encountered creatures she had only heard of in stories. She met a wise old turtle who shared ancient wisdom, a playful dolphin who taught her the secrets of the ocean, and a majestic eagle who showed her the beauty of soaring high above the mountains.\\n\\nBut as Ella explored the world, she never forgot her home in the magical forest. She would often return to share her incredible experiences with her family and friends. The other elephants listened intently, their eyes filled with wonder and admiration.\\n\\nOne day, a terrible storm struck the forest, causing chaos and destruction. The animals were frightened and sought shelter, but the elephants were too large to find refuge in the trees. Ella knew she had to help her family and friends.\\n\\nWith great determination, Ella flew through the storm, using her powerful trunk to guide and protect the other animals. She carried them to safety, one by one, until the storm finally subsided. The forest was left in ruins, but thanks to Ella's bravery, all the animals were unharmed.\\n\\nNews of Ella's heroic act spread far and wide, reaching the ears of the wise and kind-hearted Queen of the Land. Impressed by Ella's courage and selflessness, the Queen invited her to the royal palace.\\n\\nIn the grand palace, the Queen praised Ella for her extraordinary abilities and noble heart. She declared Ella the Guardian of the Forest, entrusting her with the task of protecting the magical creatures and ensuring the harmony of the land.\\n\\nFrom that day forward, Ella dedicated her life to safeguarding the forest and its inhabitants. She flew high above the trees, watching over the animals and guiding lost souls back to safety. The animals of the forest lived in peace, knowing that their beloved Guardian Elephant would always be there to protect them.\\n\\nAnd so, the legend of Ella, the flying elephant, spread throughout the land, inspiring generations to believe in the extraordinary and reminding them that true strength lies within the heart.\"\n",
      "            }\n",
      "          },\n",
      "          \"answer\": \"Elephant\"\n",
      "        },\n",
      "        {\n",
      "          \"_additional\": {\n",
      "            \"generate\": {\n",
      "              \"error\": null,\n",
      "              \"singleResult\": \"Once upon a time, in a magical forest filled with extraordinary creatures, there lived a peculiar animal known as the Nose. The Nose was not your ordinary animal; it had a long, slender snout that possessed the incredible ability to fly.\\n\\nThe Nose was a friendly and curious creature, always eager to explore the world around it. It would glide through the forest, soaring gracefully above the treetops, its snout acting as wings. The other animals in the forest were in awe of the Nose's unique talent and often gathered to watch it fly.\\n\\nOne day, as the Nose was soaring through the sky, it noticed a distressed squirrel named Sammy. Sammy had lost his acorn stash, which he had worked tirelessly to collect for the upcoming winter. The Nose, being kind-hearted, decided to help Sammy find his precious acorns.\\n\\nUsing its incredible flying snout, the Nose began to search the forest, scanning every nook and cranny. It flew high and low, swooping down to investigate every tree and bush. The Nose's snout acted as a radar, sniffing out the scent of the acorns, guiding it towards Sammy's lost stash.\\n\\nAfter hours of searching, the Nose finally spotted a hidden hollow in an old oak tree. Inside, it found Sammy's acorn stash, safely tucked away. The Nose gently picked up the acorns with its snout and flew back to Sammy, who was waiting anxiously below.\\n\\nSammy's eyes widened with joy as he saw the Nose returning with his acorns. He thanked the Nose profusely, grateful for its incredible flying snout that had saved his winter supply. The other animals in the forest cheered and applauded the Nose's heroic act.\\n\\nFrom that day forward, the Nose became a beloved figure in the forest. Animals would seek its help whenever they needed something found or retrieved. The Nose's flying snout became a symbol of hope and assistance, inspiring others to lend a helping hand.\\n\\nAs time went on, the Nose continued to use its extraordinary ability to bring joy and aid to the creatures of the forest. It became a legend, with stories of its adventures spreading far and wide. The Nose's flying snout became a symbol of unity and compassion, reminding everyone of the power of kindness and the magic that lies within each of us.\\n\\nAnd so, the Nose lived a fulfilling life, soaring through the skies, spreading happiness, and reminding us all that sometimes, the most extraordinary things can be found in the most unexpected places.\"\n",
      "            }\n",
      "          },\n",
      "          \"answer\": \"the nose or snout\"\n",
      "        }\n",
      "      ]\n",
      "    }\n",
      "  }\n",
      "}\n"
     ]
    }
   ],
   "source": [
    "#Write a query to perform RAG\n",
    "\n",
    "response = (client.query\n",
    "            .get(\"Question\",\"answer\")\n",
    "            .with_near_text({\"concepts\":\"animals\"}) #ret\n",
    "            .with_generate(single_prompt=prompt) #gen\n",
    "            .with_limit(2)\n",
    "            .do()\n",
    ")\n",
    "\n",
    "json_print(response)"
   ]
  },
  {
   "cell_type": "markdown",
   "id": "a9ce692b",
   "metadata": {},
   "source": [
    "### Lets extract all the categories"
   ]
  },
  {
   "cell_type": "code",
   "execution_count": 10,
   "id": "a1995aeb",
   "metadata": {},
   "outputs": [
    {
     "name": "stdout",
     "output_type": "stream",
     "text": [
      "{\n",
      "  \"data\": {\n",
      "    \"Get\": {\n",
      "      \"Question\": [\n",
      "        {\n",
      "          \"category\": \"ANIMALS\"\n",
      "        },\n",
      "        {\n",
      "          \"category\": \"ANIMALS\"\n",
      "        },\n",
      "        {\n",
      "          \"category\": \"ANIMALS\"\n",
      "        },\n",
      "        {\n",
      "          \"category\": \"SCIENCE\"\n",
      "        },\n",
      "        {\n",
      "          \"category\": \"ANIMALS\"\n",
      "        },\n",
      "        {\n",
      "          \"category\": \"SCIENCE\"\n",
      "        },\n",
      "        {\n",
      "          \"category\": \"SCIENCE\"\n",
      "        },\n",
      "        {\n",
      "          \"category\": \"SCIENCE\"\n",
      "        },\n",
      "        {\n",
      "          \"category\": \"SCIENCE\"\n",
      "        },\n",
      "        {\n",
      "          \"category\": \"SCIENCE\"\n",
      "        }\n",
      "      ]\n",
      "    }\n",
      "  }\n",
      "}\n"
     ]
    }
   ],
   "source": [
    "response = (client.query\n",
    "            .get(\"Question\", 'category')\n",
    "            .with_near_text({'concepts':'animals'})\n",
    "            .with_limit(10)\n",
    "            .do()\n",
    "           )\n",
    "\n",
    "json_print(response)"
   ]
  },
  {
   "cell_type": "markdown",
   "id": "8d988ca8",
   "metadata": {},
   "source": [
    "### Now we'll pass all of these in at the same time for a LLM to generate a grouped answer."
   ]
  },
  {
   "cell_type": "code",
   "execution_count": 11,
   "id": "295c7624",
   "metadata": {},
   "outputs": [],
   "source": [
    "#Write a prompt that requires information from all returned objects\n",
    "\n",
    "\n",
    "prompt = \"which of these subjects {category} does a zoologist specialize in?\""
   ]
  },
  {
   "cell_type": "code",
   "execution_count": 12,
   "id": "169f1128",
   "metadata": {},
   "outputs": [
    {
     "name": "stdout",
     "output_type": "stream",
     "text": [
      "{\n",
      "  \"data\": {\n",
      "    \"Get\": {\n",
      "      \"Question\": [\n",
      "        {\n",
      "          \"_additional\": {\n",
      "            \"generate\": {\n",
      "              \"error\": null,\n",
      "              \"groupedResult\": \"A zoologist specializes in the subject category of ANIMALS.\"\n",
      "            }\n",
      "          },\n",
      "          \"category\": \"ANIMALS\"\n",
      "        },\n",
      "        {\n",
      "          \"_additional\": {\n",
      "            \"generate\": null\n",
      "          },\n",
      "          \"category\": \"ANIMALS\"\n",
      "        },\n",
      "        {\n",
      "          \"_additional\": {\n",
      "            \"generate\": null\n",
      "          },\n",
      "          \"category\": \"ANIMALS\"\n",
      "        },\n",
      "        {\n",
      "          \"_additional\": {\n",
      "            \"generate\": null\n",
      "          },\n",
      "          \"category\": \"SCIENCE\"\n",
      "        },\n",
      "        {\n",
      "          \"_additional\": {\n",
      "            \"generate\": null\n",
      "          },\n",
      "          \"category\": \"ANIMALS\"\n",
      "        },\n",
      "        {\n",
      "          \"_additional\": {\n",
      "            \"generate\": null\n",
      "          },\n",
      "          \"category\": \"SCIENCE\"\n",
      "        },\n",
      "        {\n",
      "          \"_additional\": {\n",
      "            \"generate\": null\n",
      "          },\n",
      "          \"category\": \"SCIENCE\"\n",
      "        },\n",
      "        {\n",
      "          \"_additional\": {\n",
      "            \"generate\": null\n",
      "          },\n",
      "          \"category\": \"SCIENCE\"\n",
      "        },\n",
      "        {\n",
      "          \"_additional\": {\n",
      "            \"generate\": null\n",
      "          },\n",
      "          \"category\": \"SCIENCE\"\n",
      "        },\n",
      "        {\n",
      "          \"_additional\": {\n",
      "            \"generate\": null\n",
      "          },\n",
      "          \"category\": \"SCIENCE\"\n",
      "        }\n",
      "      ]\n",
      "    }\n",
      "  }\n",
      "}\n"
     ]
    }
   ],
   "source": [
    "#write a query that generates a grouped response\n",
    "\n",
    "response = (client.query\n",
    "            .get(\"Question\", 'category')\n",
    "            .with_near_text({'concepts':'animals'})\n",
    "            .with_generate(grouped_task=prompt)\n",
    "            .with_limit(10)\n",
    "            .do()\n",
    "           )\n",
    "\n",
    "json_print(response)"
   ]
  },
  {
   "cell_type": "code",
   "execution_count": null,
   "id": "bebb5aa8",
   "metadata": {},
   "outputs": [],
   "source": []
  }
 ],
 "metadata": {
  "kernelspec": {
   "display_name": "Python 3 (ipykernel)",
   "language": "python",
   "name": "python3"
  },
  "language_info": {
   "codemirror_mode": {
    "name": "ipython",
    "version": 3
   },
   "file_extension": ".py",
   "mimetype": "text/x-python",
   "name": "python",
   "nbconvert_exporter": "python",
   "pygments_lexer": "ipython3",
   "version": "3.11.4"
  }
 },
 "nbformat": 4,
 "nbformat_minor": 5
}
